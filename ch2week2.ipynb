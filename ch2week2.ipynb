{
  "nbformat": 4,
  "nbformat_minor": 0,
  "metadata": {
    "colab": {
      "provenance": []
    },
    "kernelspec": {
      "name": "python3",
      "display_name": "Python 3"
    },
    "language_info": {
      "name": "python"
    }
  },
  "cells": [
    {
      "cell_type": "code",
      "execution_count": null,
      "metadata": {
        "colab": {
          "base_uri": "https://localhost:8080/"
        },
        "id": "lV45RekhZANc",
        "outputId": "c8a134f0-3731-42f5-cf39-09cc98d13fd7"
      },
      "outputs": [
        {
          "output_type": "stream",
          "name": "stdout",
          "text": [
            "이름을 입력하시오:최선재\n",
            "당신이 태어난 해의 년도, 월, 일을 차례로 입력하세요:100,10,0\n",
            "최선재씨! 당신의 생년월일은 100년 10월 0일입니다.\n"
          ]
        }
      ],
      "source": [
        "#input() 함수\n",
        "#이름과 생년월일을 입력받아 출력하는 프로그램이다.\n",
        "\"\"\"\n",
        "이름을 입력하세요:홍길동\n",
        "당신이 태어난 해의 년도, 월, 일을 차례로 입력하세요:2000 3 5 홍길동씨! \n",
        "당신의 생년월일은 2000년 3월 5일입니다.\n",
        "\"\"\"\n",
        "name=input(\"이름을 입력하시오:\")\n",
        "year,month,day=input(\"당신이 태어난 해의 년도, 월, 일을 차례로 입력하세요:\").split(',') #1000,10,1\n",
        "print(f\"{name}씨! 당신의 생년월일은 {year}년 {month}월 {day}일입니다.\")\n"
      ]
    },
    {
      "cell_type": "code",
      "source": [
        "#8 사용자로부터 숫자 3개를 입력 받아 합을 구하는 프로그램을 작성하시오.\n",
        "x = int(input(\"첫 번째 정수?\"))\n",
        "y = int(input(\"두 번째 정수?\"))\n",
        "z = int(input(\"세 번째 정수?\"))\n",
        "tot = x+y+z\n",
        "print(f\"{x}과 {y}과 {z}의 합은 {tot:,} 이다\")"
      ],
      "metadata": {
        "colab": {
          "base_uri": "https://localhost:8080/"
        },
        "id": "GIAaxufFclgK",
        "outputId": "4334e476-ee01-43d2-e91d-300f622b34a1"
      },
      "execution_count": null,
      "outputs": [
        {
          "output_type": "stream",
          "name": "stdout",
          "text": [
            "첫 번째 정수?678\n",
            "두 번째 정수?98798\n",
            "세 번째 정수?889890880\n",
            "678과 98798과 889890880의 합은 889,990,356 이다\n"
          ]
        }
      ]
    },
    {
      "cell_type": "code",
      "source": [
        "78"
      ],
      "metadata": {
        "id": "5SmINIhrkYjl"
      },
      "execution_count": null,
      "outputs": []
    },
    {
      "cell_type": "code",
      "source": [
        "\n",
        "kor = int(input(\"국어: \"))\n",
        "eng = int(input(\"영어: \"))\n",
        "math = int(input(\"수학: \"))\n",
        "tot = kor+eng+math\n",
        "avg = tot/3\n",
        "print(\"총점 :\",tot)\n",
        "print(f\"평균 : {avg:,.2f}\")"
      ],
      "metadata": {
        "colab": {
          "base_uri": "https://localhost:8080/"
        },
        "id": "R6vex1DWg4ST",
        "outputId": "638e0ebc-58e7-4d5b-fa1e-4b331c206311"
      },
      "execution_count": null,
      "outputs": [
        {
          "output_type": "stream",
          "name": "stdout",
          "text": [
            "국어: 100\n",
            "영어: 70\n",
            "수학: 85\n",
            "총점 : 255\n",
            "평균 : 85.00\n"
          ]
        }
      ]
    },
    {
      "cell_type": "code",
      "source": [
        "list_color=[\"red\", \"blue\", \"orange\", \"green\", \"purple\"]\n",
        "print(list_color.pop())"
      ],
      "metadata": {
        "colab": {
          "base_uri": "https://localhost:8080/"
        },
        "id": "8JzYxWFIjfA_",
        "outputId": "47e074db-3974-4c85-8fe5-b09739a7d155"
      },
      "execution_count": null,
      "outputs": [
        {
          "output_type": "stream",
          "name": "stdout",
          "text": [
            "purple\n"
          ]
        }
      ]
    },
    {
      "cell_type": "code",
      "source": [
        "list_color=[\"red\", \"blue\", \"orange\", \"green\", \"purple\"]\n",
        "list_color.remove(\"orange\")\n",
        "print(list_color)"
      ],
      "metadata": {
        "colab": {
          "base_uri": "https://localhost:8080/"
        },
        "id": "NCzqeIc4uY75",
        "outputId": "43a9ddb5-29bf-4f2d-f8d6-63fd3d2b7a96"
      },
      "execution_count": null,
      "outputs": [
        {
          "output_type": "stream",
          "name": "stdout",
          "text": [
            "['red', 'blue', 'green', 'purple']\n"
          ]
        }
      ]
    },
    {
      "cell_type": "code",
      "source": [
        "list_color=[\"red\", \"blue\", \"green\", \"purple\"]\n",
        "del list_color[0]\n",
        "print(list_color)\n",
        "del list_color[0]\n",
        "print(list_color)\n",
        "del list_color[0]\n",
        "print(list_color)\n",
        "del list_color[0]\n",
        "print(list_color)\n",
        "\n"
      ],
      "metadata": {
        "colab": {
          "base_uri": "https://localhost:8080/"
        },
        "id": "AV97KX2hur1-",
        "outputId": "16e2d95d-4aa8-4db8-8d3e-6947c25b953a"
      },
      "execution_count": null,
      "outputs": [
        {
          "output_type": "stream",
          "name": "stdout",
          "text": [
            "['blue', 'green', 'purple']\n",
            "['green', 'purple']\n",
            "['purple']\n",
            "[]\n"
          ]
        }
      ]
    },
    {
      "cell_type": "code",
      "source": [
        "# 수행평가 다음 일반 수식을 파이썬 프로그램 연산식으로 바꾸어 코드를 작성하시오.\n",
        "(5 * 5 + 2 *((25 - 5) / 5)) ** 2"
      ],
      "metadata": {
        "colab": {
          "base_uri": "https://localhost:8080/"
        },
        "id": "BovRqRTPvRpi",
        "outputId": "f599d2a3-adf1-4409-836a-8f9c255712c7"
      },
      "execution_count": null,
      "outputs": [
        {
          "output_type": "execute_result",
          "data": {
            "text/plain": [
              "1089.0"
            ]
          },
          "metadata": {},
          "execution_count": 46
        }
      ]
    },
    {
      "cell_type": "code",
      "source": [
        "# 사용자로부터 분자, 분모 값을 입력 받아 [실행 결과]와 같이 나눗셈 몫, 나눗셈 나머지를 출력하시오.\n",
        "a = 13//5\n",
        "b = 13%5\n",
        "print(f\"나눗셈 몫= {a}\")\n",
        "print(f\"나눗셈 나머지= {b}\")"
      ],
      "metadata": {
        "colab": {
          "base_uri": "https://localhost:8080/"
        },
        "id": "6NIp8D951lBn",
        "outputId": "9f53a3b0-4569-48aa-8d05-b38421808708"
      },
      "execution_count": null,
      "outputs": [
        {
          "output_type": "stream",
          "name": "stdout",
          "text": [
            "나눗셈 몫= 2\n",
            "나눗셈 나머지= 3\n"
          ]
        }
      ]
    },
    {
      "cell_type": "code",
      "source": [
        "# 사용자로부터 화씨온도를 입력 받아 섭씨온도로 변환하는 프로그램을 작성하시오. \n",
        "# Hint: 섭씨온도 구하는 공식 °C = (화씨온도 –32.0) / 1.8\n",
        "a = int(input())\n",
        "d = float(a -32.0)/1.8\n",
        "print(f\"입력한 화씨온도 {a}도는 섭씨온도롤 22.22도 이다.\")"
      ],
      "metadata": {
        "colab": {
          "base_uri": "https://localhost:8080/"
        },
        "id": "8oiEBQb83t7T",
        "outputId": "52a84e4d-b0a3-42c8-85d6-9f084b02164d"
      },
      "execution_count": null,
      "outputs": [
        {
          "output_type": "stream",
          "name": "stdout",
          "text": [
            "72\n",
            "입력한 화씨온도 72도는 섭씨온도롤 22.22도 이다.\n"
          ]
        }
      ]
    },
    {
      "cell_type": "code",
      "source": [
        "#수행평가\n",
        "a = 10000 \n",
        "c = 3550\n",
        "c500 = (a-c)//500\n",
        "c100 = (a-c)%500//100\n",
        "c50 = (a-c)%500%100//50\n",
        "\n",
        "print(f\"거스름돈 : {a-c} 원\")\n",
        "print(f\"500원 짜리 거스름돈 : {c500} 개\")\n",
        "print(f\"100원 짜리 거스름돈 : {c100} 개\")\n",
        "print(f\"50원 짜리 거스름돈 : {c50} 개\")"
      ],
      "metadata": {
        "id": "mdfMyvEC4gax",
        "colab": {
          "base_uri": "https://localhost:8080/"
        },
        "outputId": "f5b5e1d9-a809-49da-a991-1a116f09805d"
      },
      "execution_count": 8,
      "outputs": [
        {
          "output_type": "stream",
          "name": "stdout",
          "text": [
            "거스름돈 : 6450 원\n",
            "500원 짜리 거스름돈 : 12 개\n",
            "100원 짜리 거스름돈 : 4 개\n",
            "50원 짜리 거스름돈 : 1 개\n"
          ]
        }
      ]
    },
    {
      "cell_type": "code",
      "source": [],
      "metadata": {
        "id": "TUZjmgv88B4m"
      },
      "execution_count": null,
      "outputs": []
    }
  ]
}