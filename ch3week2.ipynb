{
  "nbformat": 4,
  "nbformat_minor": 0,
  "metadata": {
    "colab": {
      "provenance": []
    },
    "kernelspec": {
      "name": "python3",
      "display_name": "Python 3"
    },
    "language_info": {
      "name": "python"
    }
  },
  "cells": [
    {
      "cell_type": "code",
      "execution_count": null,
      "metadata": {
        "colab": {
          "base_uri": "https://localhost:8080/"
        },
        "id": "iI4HeLIU9scQ",
        "outputId": "cddc3c7b-dff4-4239-90ea-af10ddd8f286"
      },
      "outputs": [
        {
          "output_type": "stream",
          "name": "stdout",
          "text": [
            "True\n"
          ]
        }
      ],
      "source": [
        "kor = 90\n",
        "eng = 80\n",
        "math = 100\n",
        "print(kor >= 80 and eng>=80 and math>=80)"
      ]
    },
    {
      "cell_type": "code",
      "source": [
        "number = int(input(\"어떤 값:\"))\n",
        "nshift = int(intput(\"왼쪽쉬프트:\"))\n",
        "\n",
        "print(f\"왼쪽 쉬프트(number)<<(nshift)=\", )"
      ],
      "metadata": {
        "id": "AH3-vHR29_ue"
      },
      "execution_count": null,
      "outputs": []
    },
    {
      "cell_type": "code",
      "source": [
        "# 숫자를 입력받아 3의 배수인지 아닌지를 판단하는 프로그램을 작성하시오\n",
        "number = int(input('어떤 수'))\n",
        "message = \"3의 배수 입니다.\" if number%3==0 else \"3의 배수가 아닙니다.\"\n",
        "print(f\"당신이 입력한 숫자 {number}은 {message}\")"
      ],
      "metadata": {
        "colab": {
          "base_uri": "https://localhost:8080/"
        },
        "id": "VEtoDc3QDnId",
        "outputId": "58d2823a-4d5b-4122-e2b8-f47ea86ec885"
      },
      "execution_count": null,
      "outputs": [
        {
          "output_type": "stream",
          "name": "stdout",
          "text": [
            "어떤 수18\n",
            "당신이 입력한 숫자 18은 3의 배수 입니다.\n"
          ]
        }
      ]
    },
    {
      "cell_type": "code",
      "source": [],
      "metadata": {
        "colab": {
          "base_uri": "https://localhost:8080/"
        },
        "id": "tQjGgSmNEUMv",
        "outputId": "736e996c-5406-4dba-83cd-b668768e82b8"
      },
      "execution_count": null,
      "outputs": [
        {
          "output_type": "stream",
          "name": "stdout",
          "text": [
            "상품 가격 ? 75000\n",
            "할인 대상 3의 배수 입니다.\n"
          ]
        }
      ]
    },
    {
      "cell_type": "code",
      "source": [
        "price = int(input('상품 가격 ? '))\n",
        "sale = True if price >=60000 else False\n",
        "print(f\"할인 대상 {sale}\")"
      ],
      "metadata": {
        "colab": {
          "base_uri": "https://localhost:8080/"
        },
        "id": "L9L06UYSFQkU",
        "outputId": "a13f6d43-cf71-42f6-d73d-be83d314262e"
      },
      "execution_count": null,
      "outputs": [
        {
          "output_type": "stream",
          "name": "stdout",
          "text": [
            "상품 가격 ? 75000\n",
            "할인 대상 True\n"
          ]
        }
      ]
    },
    {
      "cell_type": "code",
      "source": [
        "age = int(input(\"나이? \"))\n",
        "rank = \"이 등급의 영화를 볼 수 있습니다.\" if age>=16 else \"이 등급의 영화를 볼 수 없습니다.\"\n",
        "print(rank)\n"
      ],
      "metadata": {
        "colab": {
          "base_uri": "https://localhost:8080/"
        },
        "id": "HAa4h57FFvet",
        "outputId": "dbfced35-e657-417c-8919-42002e1ed449"
      },
      "execution_count": null,
      "outputs": [
        {
          "output_type": "stream",
          "name": "stdout",
          "text": [
            "나이? 18\n",
            "이 등급의 영화를 볼 수 있습니다.\n"
          ]
        }
      ]
    },
    {
      "cell_type": "code",
      "source": [
        "print(hex)"
      ],
      "metadata": {
        "colab": {
          "base_uri": "https://localhost:8080/"
        },
        "id": "K0pdoJzaGI2o",
        "outputId": "1d470b06-22ce-4316-e5ac-e77bb2a3aa31"
      },
      "execution_count": null,
      "outputs": [
        {
          "output_type": "stream",
          "name": "stdout",
          "text": [
            "<built-in function hex>\n"
          ]
        }
      ]
    },
    {
      "cell_type": "code",
      "source": [
        "al=input(\"알파벳을 입력하세요 : \")\n",
        "x = ord(al)\n",
        "answer = f\"당신이 입력한 문자 {al}는 대문자입니다.\" if x>=65 and x<=90 else f\"당신이 입력한 문자 {al}는 소문자입니다.\"\n",
        "print(answer)"
      ],
      "metadata": {
        "colab": {
          "base_uri": "https://localhost:8080/"
        },
        "id": "UFHO1FGxHBug",
        "outputId": "0a67f460-0bf3-4fdc-b218-e75eac7c73fe"
      },
      "execution_count": 7,
      "outputs": [
        {
          "output_type": "stream",
          "name": "stdout",
          "text": [
            "알파벳을 입력하세요 : w\n",
            "당신이 입력한 문자 w는 소문자입니다.\n"
          ]
        }
      ]
    },
    {
      "cell_type": "code",
      "source": [],
      "metadata": {
        "id": "-HQlB75HH4gK"
      },
      "execution_count": 7,
      "outputs": []
    },
    {
      "cell_type": "code",
      "source": [
        "ai=(input())\n",
        "print(ord(\"ai\"))"
      ],
      "metadata": {
        "id": "J1J1nCjEAXIk",
        "colab": {
          "base_uri": "https://localhost:8080/"
        },
        "outputId": "3046a711-9c7f-4c07-b650-e41743b08adc"
      },
      "execution_count": 7,
      "outputs": [
        {
          "output_type": "stream",
          "name": "stdout",
          "text": [
            "A\n",
            "97\n"
          ]
        }
      ]
    },
    {
      "cell_type": "code",
      "source": [],
      "metadata": {
        "id": "4NmK9-eRA6ty"
      },
      "execution_count": null,
      "outputs": []
    }
  ]
}