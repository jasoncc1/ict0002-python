{
  "nbformat": 4,
  "nbformat_minor": 0,
  "metadata": {
    "colab": {
      "provenance": []
    },
    "kernelspec": {
      "name": "python3",
      "display_name": "Python 3"
    },
    "language_info": {
      "name": "python"
    }
  },
  "cells": [
    {
      "cell_type": "code",
      "execution_count": null,
      "metadata": {
        "id": "OlJ9tqE5kNMR"
      },
      "outputs": [],
      "source": [
        "printPrg = \"Java\",\"C\",\"Python\",\"R\",\"Web\"\n",
        "for i in printPrg:\n",
        "  print(i)"
      ]
    },
    {
      "cell_type": "code",
      "source": [
        "def strLen(str): #함수 정의 \n",
        "  return len(str)\n",
        "str=[\"Java\",\"C\",\"Python\",\"R\",\"Web\"]\n",
        "strnum=list(map(strLen, str))\n",
        "for i,j in zip(str, strnum):\n",
        "  print(\"{}\\t{}\".format(i,j))"
      ],
      "metadata": {
        "id": "M_Jz40IMkPEq"
      },
      "execution_count": null,
      "outputs": []
    }
  ]
}