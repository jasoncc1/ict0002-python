{
  "nbformat": 4,
  "nbformat_minor": 0,
  "metadata": {
    "colab": {
      "provenance": []
    },
    "kernelspec": {
      "name": "python3",
      "display_name": "Python 3"
    },
    "language_info": {
      "name": "python"
    }
  },
  "cells": [
    {
      "cell_type": "code",
      "execution_count": null,
      "metadata": {
        "colab": {
          "base_uri": "https://localhost:8080/"
        },
        "id": "uCQrlEb2zAsF",
        "outputId": "c98c1a6e-12cb-4357-e704-ac24413d4dba"
      },
      "outputs": [
        {
          "output_type": "stream",
          "name": "stdout",
          "text": [
            "5\n",
            "4\n",
            "3\n",
            "2\n",
            "1\n"
          ]
        }
      ],
      "source": [
        "for i in range(5, 0,-1):\n",
        " print(i)"
      ]
    },
    {
      "cell_type": "code",
      "source": [
        "#사용자로부터 숫자 정수 5개를 입력 받아, 홀수를 판별하여 홀수의 개수를 출력하는 프로그램을 작성하시오.\n",
        "num=int(input(\"num?\"))\n",
        "\n",
        "if num%2==0 :\n",
        "  print(f\"{num}은/는 짝수입니다.\")\n",
        "else :\n",
        "    print(f\"{num}은/는 홀수입니다.\")"
      ],
      "metadata": {
        "colab": {
          "base_uri": "https://localhost:8080/"
        },
        "id": "ximJfV1JzXFf",
        "outputId": "c1ce7c89-019f-4122-a93c-f37632e2c989"
      },
      "execution_count": null,
      "outputs": [
        {
          "output_type": "stream",
          "name": "stdout",
          "text": [
            "num?2\n",
            "2은/는 짝수입니다.\n"
          ]
        }
      ]
    },
    {
      "cell_type": "code",
      "source": [
        "odd=0 \n",
        "for i in range(0,2) :\n",
        "\n",
        "  num=int(input(\"num?\"))\n",
        "  if num%2==0 :\n",
        "    print(f\"{num}은/는 짝수입니다.\")\n",
        "  else :\n",
        "    print(f\"{num}은/는 홀수입니다.\")\n",
        "    odd+=1\n",
        "print(f\"odd의 수는 {odd}개 이다.\")\n",
        "#1. 홀짝 판별 if문\n",
        "#2. for\n",
        "#3. 홀수 수\n"
      ],
      "metadata": {
        "colab": {
          "base_uri": "https://localhost:8080/"
        },
        "id": "67xnSKTf1n1x",
        "outputId": "79fc5108-5d7b-4e88-f46d-bbefbb6581bf"
      },
      "execution_count": null,
      "outputs": [
        {
          "output_type": "stream",
          "name": "stdout",
          "text": [
            "num?2\n",
            "2은/는 짝수입니다.\n",
            "num?1\n",
            "1은/는 홀수입니다.\n",
            "odd의 수는 1개 이다.\n"
          ]
        }
      ]
    },
    {
      "cell_type": "code",
      "source": [
        "zoo = [\"rabbit\", \"goat\", \"tiger\", \"lion\", \"giraff\",\"zebra\"]\n",
        "zoo.reverse()\n",
        "for name in reversed(zoo) :\n",
        "  print(name, end=\" \")\n",
        "for name in zoo[::-1] :\n",
        "    print(name, end=\" \")"
      ],
      "metadata": {
        "colab": {
          "base_uri": "https://localhost:8080/"
        },
        "id": "4QT-CqZK4VsL",
        "outputId": "e5cda541-cd0c-4979-e33e-548d5063abe2"
      },
      "execution_count": null,
      "outputs": [
        {
          "output_type": "stream",
          "name": "stdout",
          "text": [
            "rabbit goat tiger lion giraff zebra rabbit goat tiger lion giraff zebra "
          ]
        }
      ]
    },
    {
      "cell_type": "code",
      "source": [
        "zoo = [\"rabbit\", \"goat\", \"tiger\", \"lion\", \"giraffe\",\"zebra\"]\n",
        "for name in reversed(zoo) :\n",
        "  print(name, \":\", len(name))\n"
      ],
      "metadata": {
        "colab": {
          "base_uri": "https://localhost:8080/"
        },
        "id": "BswStyN879v0",
        "outputId": "0a15ed0d-f244-4a4e-c66a-e728db98a3f5"
      },
      "execution_count": null,
      "outputs": [
        {
          "output_type": "stream",
          "name": "stdout",
          "text": [
            "zebra : 5\n",
            "giraffe : 7\n",
            "lion : 4\n",
            "tiger : 5\n",
            "goat : 4\n",
            "rabbit : 6\n"
          ]
        }
      ]
    },
    {
      "cell_type": "code",
      "source": [
        "zoo = [\"rabbit\", \"goat\", \"tiger\", \"lion\", \"giraffe\",\"zebra\"]\n",
        "for i in range(2) :\n",
        "  animal = input(\"내가 좋아하는 동물?\")\n",
        "  if animal in zoo :\n",
        "      print(f\"{animal}은/는 동물원에 있습니다.\")\n",
        "  else :\n",
        "      print(f\"{animal}은/는 동물원에 없습니다.\")\n"
      ],
      "metadata": {
        "colab": {
          "base_uri": "https://localhost:8080/"
        },
        "id": "cQJSCjqJ86O2",
        "outputId": "65410446-d052-427c-ac51-0a9d5ee7e441"
      },
      "execution_count": null,
      "outputs": [
        {
          "output_type": "stream",
          "name": "stdout",
          "text": [
            "내가 좋아하는 동물?lion\n",
            "lion은/는 동물원에 있습니다.\n",
            "내가 좋아하는 동물?deer\n",
            "deer은/는 동물원에 없습니다.\n"
          ]
        }
      ]
    },
    {
      "cell_type": "code",
      "source": [
        "cnt =1\n",
        "while cnt<=5:\n",
        "  print(f\"파이썬 프로그램 {cnt}번 출력\")\n",
        "  cnt=cnt+1"
      ],
      "metadata": {
        "colab": {
          "base_uri": "https://localhost:8080/"
        },
        "id": "4hJaUBcb-my_",
        "outputId": "ddb423ca-a91e-4f49-8fd5-79ac26110860"
      },
      "execution_count": null,
      "outputs": [
        {
          "output_type": "stream",
          "name": "stdout",
          "text": [
            "파이썬 프로그램 1번 출력\n",
            "파이썬 프로그램 2번 출력\n",
            "파이썬 프로그램 3번 출력\n",
            "파이썬 프로그램 4번 출력\n",
            "파이썬 프로그램 5번 출력\n"
          ]
        }
      ]
    },
    {
      "cell_type": "code",
      "source": [
        "for i in range(1,6) :\n",
        "    print(f\"파이썬 프로그램 {i}번 출력\")\n"
      ],
      "metadata": {
        "colab": {
          "base_uri": "https://localhost:8080/"
        },
        "id": "Uu98mP8dHtpL",
        "outputId": "db501141-13cf-43f1-b4df-11e427bd09cf"
      },
      "execution_count": null,
      "outputs": [
        {
          "output_type": "stream",
          "name": "stdout",
          "text": [
            "파이썬 프로그램 1번 출력\n",
            "파이썬 프로그램 2번 출력\n",
            "파이썬 프로그램 3번 출력\n",
            "파이썬 프로그램 4번 출력\n",
            "파이썬 프로그램 5번 출력\n"
          ]
        }
      ]
    },
    {
      "cell_type": "code",
      "source": [
        "num=int(input(\"원하는 구구단:\"))\n",
        "cnt=1\n",
        "while cnt<=9 :\n",
        "  print(num,\"*\",cnt,\"=\",num*cnt)\n",
        "  cnt+=1"
      ],
      "metadata": {
        "colab": {
          "base_uri": "https://localhost:8080/"
        },
        "id": "adGBKYaGIEEH",
        "outputId": "e6ed9237-ab98-45c6-d5ac-31d67f04687b"
      },
      "execution_count": null,
      "outputs": [
        {
          "output_type": "stream",
          "name": "stdout",
          "text": [
            "원하는 구구단:2\n",
            "2 * 1 = 2\n",
            "2 * 2 = 4\n",
            "2 * 3 = 6\n",
            "2 * 4 = 8\n",
            "2 * 5 = 10\n",
            "2 * 6 = 12\n",
            "2 * 7 = 14\n",
            "2 * 8 = 16\n",
            "2 * 9 = 18\n"
          ]
        }
      ]
    },
    {
      "cell_type": "code",
      "source": [
        "animal=[\"dog\",\"duck\",\"pony\", \"donkey\", \"giraffe\", \"elephant\",\"cat\"]\n",
        "for i in animal:\n",
        " if len(i)<=5 :\n",
        "    print(i)"
      ],
      "metadata": {
        "id": "uKn-ZV0mIxZr",
        "colab": {
          "base_uri": "https://localhost:8080/"
        },
        "outputId": "8775cd7f-9e2c-4537-8528-c941c372dd1f"
      },
      "execution_count": 20,
      "outputs": [
        {
          "output_type": "stream",
          "name": "stdout",
          "text": [
            "dog\n",
            "duck\n",
            "pony\n",
            "cat\n"
          ]
        }
      ]
    },
    {
      "cell_type": "code",
      "source": [],
      "metadata": {
        "id": "VIZnJlTa4OzL"
      },
      "execution_count": null,
      "outputs": []
    }
  ]
}