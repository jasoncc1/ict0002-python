{
  "nbformat": 4,
  "nbformat_minor": 0,
  "metadata": {
    "colab": {
      "provenance": []
    },
    "kernelspec": {
      "name": "python3",
      "display_name": "Python 3"
    },
    "language_info": {
      "name": "python"
    }
  },
  "cells": [
    {
      "cell_type": "code",
      "execution_count": null,
      "metadata": {
        "id": "i20hH1NF1Pt1"
      },
      "outputs": [],
      "source": [
        "for i in range(1,6,1) :\n",
        "  for j in range(i,6,1): \n",
        "    print(i*\" \",j, end=\"\")\n",
        "  print()\n",
        " \n"
      ]
    },
    {
      "cell_type": "code",
      "source": [
        "num = int(input(\"숫자 입력 : \"))\n",
        "a=0\n",
        "for i in range(2,num) : \n",
        "  if num%i==0 :\n",
        "    a=1\n",
        "if a==1 or num==1 or num==0:\n",
        "  print(f\"{num}은/는 소수가 아닙니다\")\n",
        "else :\n",
        "  print(f\"{num}은/는 소수입니다\")\n",
        "\n",
        "\n"
      ],
      "metadata": {
        "id": "LR8JEZu11_pt"
      },
      "execution_count": null,
      "outputs": []
    }
  ]
}