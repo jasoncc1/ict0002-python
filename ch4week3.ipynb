{
  "nbformat": 4,
  "nbformat_minor": 0,
  "metadata": {
    "colab": {
      "provenance": [],
      "collapsed_sections": []
    },
    "kernelspec": {
      "name": "python3",
      "display_name": "Python 3"
    },
    "language_info": {
      "name": "python"
    }
  },
  "cells": [
    {
      "cell_type": "code",
      "execution_count": null,
      "metadata": {
        "id": "39wYFLT8HUoM"
      },
      "outputs": [],
      "source": [
        "#사용자로부터 전력용도, 사용량을 입력하여 전기요금을 산출하는 중첩if 프로그램을 작성하시오. \n",
        "case=int(input(\"1.주택용 2. 공업용 3.산업용\"))\n",
        "usage=int(input(\"사용량(kwh)?\"))\n",
        "if case==1:\n",
        "  bill = 88*usage+910\n",
        "  if case==2 :\n",
        "    bill = 182*usage+1600\n",
        "  else :\n",
        "    bill = 275*usage+7300\n",
        "print(f\"용도:{case} 사용량:{usage} 전기요금:{bill:,}원\".format(bill))\n",
        "\n",
        "\n"
      ]
    },
    {
      "cell_type": "code",
      "source": [
        "name=input(\"이름 : \")\n",
        "kor=int(input(\"국어점수:\"))\n",
        "eng=int(input(\"영어점수:\"))\n",
        "math=int(input(\"수학점수:\"))\n",
        "tot=math+eng+kor\n",
        "avg=tot/3\n",
        "if avg>=95 :\n",
        "  point=\"A+\"\n",
        "elif avg>=90 :\n",
        "  point=\"A\"\n",
        "elif avg>=85 :\n",
        "  point=\"B+\"\n",
        "elif avg>=80 :\n",
        "  point=\"B\"\n",
        "elif avg>=75 :\n",
        "  point=\"C+\"\n",
        "elif avg>=70 :\n",
        "  point=\"C\"\n",
        "elif avg>=65 :\n",
        "  point=\"D+\"\n",
        "elif avg>=60 :\n",
        "  point=\"D\"\n",
        "else :\n",
        "  point=\"F\"\n",
        "print(f\"{name}의 총점은 {tot}점, 평균은 {avg:.2f}, 학점은 {point} 학점입니다.\")"
      ],
      "metadata": {
        "id": "_t7oL6O1HjEw"
      },
      "execution_count": null,
      "outputs": []
    }
  ]
}