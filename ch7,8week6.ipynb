{
  "nbformat": 4,
  "nbformat_minor": 0,
  "metadata": {
    "colab": {
      "provenance": []
    },
    "kernelspec": {
      "name": "python3",
      "display_name": "Python 3"
    },
    "language_info": {
      "name": "python"
    }
  },
  "cells": [
    {
      "cell_type": "markdown",
      "source": [
        "ch7수행평가"
      ],
      "metadata": {
        "id": "0f-E2ZzKPbfl"
      }
    },
    {
      "cell_type": "code",
      "source": [
        "flower=[\"장미\", \"백합\", \"국화\",\"수선화\"]\n",
        "flower.append(\"해바라기\")\n",
        "flower.sort(key=len,reverse=True)\n",
        "for i in flower:\n",
        "  print(i, len(i))"
      ],
      "metadata": {
        "colab": {
          "base_uri": "https://localhost:8080/"
        },
        "id": "NThGtuzQPYEy",
        "outputId": "4592437e-d1d5-4b15-9b3c-29b8ce7ebe77"
      },
      "execution_count": 1,
      "outputs": [
        {
          "output_type": "stream",
          "name": "stdout",
          "text": [
            "해바라기 4\n",
            "수선화 3\n",
            "장미 2\n",
            "백합 2\n",
            "국화 2\n"
          ]
        }
      ]
    },
    {
      "cell_type": "markdown",
      "source": [
        "ch8수행평가"
      ],
      "metadata": {
        "id": "lxM1bsRRPeCS"
      }
    },
    {
      "cell_type": "code",
      "execution_count": 2,
      "metadata": {
        "colab": {
          "base_uri": "https://localhost:8080/"
        },
        "id": "Vtkf8zMFPWmP",
        "outputId": "3ee2e537-04d3-4493-b250-4696f74e40bd"
      },
      "outputs": [
        {
          "output_type": "stream",
          "name": "stdout",
          "text": [
            "[('노타임투다이', 52.5), ('오징어게임', 50.45), ('이터널스', 35.46), ('스파이더맨', 15.47), ('그레비티', 9.8)]\n",
            "영화제목       예매율        순위\n",
            "=======      ========    =======\n",
            "노타임투다이      52.5           1\n",
            "오징어게임      50.45           2\n",
            "이터널스      35.46           3\n",
            "스파이더맨      15.47           4\n",
            "그레비티      9.8           5\n"
          ]
        }
      ],
      "source": [
        "movie={\"오징어게임\":50.45, \"이터널스\":35.46,\"그레비티\":9.8, \"노타임투다이\":52.5, \"스파이더맨\":15.47}\n",
        "sorted_movie = sorted(movie.items(), key=lambda k:k[1], reverse =True)\n",
        "print(sorted_movie)\n",
        "print(\"영화제목       예매율        순위\")\n",
        "print(\"=======      ========    =======\")\n",
        "i=1\n",
        "for k,v in sorted_movie:\n",
        "   print(f'{k}      {v}           {i}')\n",
        "   i+=1\n"
      ]
    },
    {
      "cell_type": "code",
      "source": [],
      "metadata": {
        "id": "wXD0EyFNPimo"
      },
      "execution_count": null,
      "outputs": []
    }
  ]
}