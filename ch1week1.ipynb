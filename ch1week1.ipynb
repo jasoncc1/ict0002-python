{
  "nbformat": 4,
  "nbformat_minor": 0,
  "metadata": {
    "colab": {
      "provenance": [],
      "collapsed_sections": []
    },
    "kernelspec": {
      "name": "python3",
      "display_name": "Python 3"
    },
    "language_info": {
      "name": "python"
    }
  },
  "cells": [
    {
      "cell_type": "code",
      "source": [
        "print('10 + 10 =', 10+10 , sep='$')"
      ],
      "metadata": {
        "colab": {
          "base_uri": "https://localhost:8080/"
        },
        "id": "DPIxkIWurDCK",
        "outputId": "36b19b5d-6ace-40c9-91d0-9090585c7688"
      },
      "execution_count": 1,
      "outputs": [
        {
          "output_type": "stream",
          "name": "stdout",
          "text": [
            "10 + 10 =$20\n"
          ]
        }
      ]
    },
    {
      "cell_type": "code",
      "source": [
        "print(1,2,3,4,5, sep=\"\")\n",
        "#띄어쓰기 구분자 sep=\"\", sep=\"$\" 이렇게 바꿀 수 있음."
      ],
      "metadata": {
        "colab": {
          "base_uri": "https://localhost:8080/"
        },
        "id": "f1e023nvrqPA",
        "outputId": "bbf69fcd-b353-489e-a24d-c83cdb51a79b"
      },
      "execution_count": null,
      "outputs": [
        {
          "output_type": "stream",
          "name": "stdout",
          "text": [
            "12345\n"
          ]
        }
      ]
    },
    {
      "cell_type": "code",
      "source": [
        "print(\"python\"+\"program\")\n"
      ],
      "metadata": {
        "colab": {
          "base_uri": "https://localhost:8080/"
        },
        "id": "blRg56nDvrHe",
        "outputId": "4506ed7c-3f36-456a-dd14-5a41aff95532"
      },
      "execution_count": null,
      "outputs": [
        {
          "output_type": "stream",
          "name": "stdout",
          "text": [
            "pythonprogram\n"
          ]
        }
      ]
    },
    {
      "cell_type": "code",
      "source": [
        "print(\"python\",\"program\")"
      ],
      "metadata": {
        "colab": {
          "base_uri": "https://localhost:8080/"
        },
        "id": "gcmP-C3bv5Og",
        "outputId": "1d25ea39-1913-4c4c-cb34-be9c5d61654c"
      },
      "execution_count": null,
      "outputs": [
        {
          "output_type": "stream",
          "name": "stdout",
          "text": [
            "python program\n"
          ]
        }
      ]
    },
    {
      "cell_type": "code",
      "source": [
        "print(\"python \" * 5)\n",
        "print(\"*\"*29)"
      ],
      "metadata": {
        "colab": {
          "base_uri": "https://localhost:8080/"
        },
        "id": "zS4eg6sMv_8W",
        "outputId": "b65ba2bd-e513-45ee-d9c6-f00c13881cde"
      },
      "execution_count": null,
      "outputs": [
        {
          "output_type": "stream",
          "name": "stdout",
          "text": [
            "python python python python python \n",
            "*****************************\n"
          ]
        }
      ]
    },
    {
      "cell_type": "code",
      "source": [
        "print(\"Python Program is Great Program!\")"
      ],
      "metadata": {
        "colab": {
          "base_uri": "https://localhost:8080/"
        },
        "id": "rjE29D5SwLId",
        "outputId": "6e1ce4d1-3c8c-4ebb-bfac-7214864de445"
      },
      "execution_count": null,
      "outputs": [
        {
          "output_type": "stream",
          "name": "stdout",
          "text": [
            "Python Program is Great Program!\n"
          ]
        }
      ]
    },
    {
      "cell_type": "code",
      "source": [
        "print(\"50+50의 합=\", 50+50)"
      ],
      "metadata": {
        "colab": {
          "base_uri": "https://localhost:8080/"
        },
        "id": "P-TDI3RLw293",
        "outputId": "81efb72d-6b70-459b-dee3-0a95147e1660"
      },
      "execution_count": null,
      "outputs": [
        {
          "output_type": "stream",
          "name": "stdout",
          "text": [
            "50+50의 합= 100\n"
          ]
        }
      ]
    },
    {
      "cell_type": "code",
      "source": [
        "name = \"홍길동\"\n",
        "print(\"나의 이름은\", name, \"입니다.\")\n",
        "#출력할 원소는 3개, \n",
        "#변수를 만들고 변수 출력 연습"
      ],
      "metadata": {
        "colab": {
          "base_uri": "https://localhost:8080/"
        },
        "id": "YNfbuaYO0CWW",
        "outputId": "dcc32bb2-1828-4005-c6f2-4dcff3c4bbb8"
      },
      "execution_count": null,
      "outputs": [
        {
          "output_type": "stream",
          "name": "stdout",
          "text": [
            "나의 이름은 홍길동 입니다.\n"
          ]
        }
      ]
    },
    {
      "cell_type": "code",
      "source": [
        "age = 20\n",
        "name =\"홍길동\"\n",
        "print(\"나의 이름은 \", name, \"이고,\", sep=\"\" )\n",
        "print(\"나이는 \",age, \"세이다.\", sep=\"\")"
      ],
      "metadata": {
        "colab": {
          "base_uri": "https://localhost:8080/"
        },
        "id": "Oq0ZmMi10MLz",
        "outputId": "f044a4d2-1154-4af0-aa4a-4317bfea6ceb"
      },
      "execution_count": null,
      "outputs": [
        {
          "output_type": "stream",
          "name": "stdout",
          "text": [
            "나의 이름은 홍길동이고,\n",
            "나이는 20세이다.\n"
          ]
        }
      ]
    },
    {
      "cell_type": "code",
      "source": [
        "# 숫자 천 단위 콤마format{형식규칙:,}.format(값)\n"
      ],
      "metadata": {
        "id": "jjoEgecM05Nv"
      },
      "execution_count": null,
      "outputs": []
    },
    {
      "cell_type": "code",
      "source": [
        "# n정수형 숫자 자리 형식 지정 {순서:nd}.format(변수)"
      ],
      "metadata": {
        "id": "4UkGTFOt6FZe"
      },
      "execution_count": null,
      "outputs": []
    },
    {
      "cell_type": "code",
      "source": [
        "# 실수형 숫자 자리 형식 지정 {0:0,.1f}.format(값)\n",
        "\n",
        "height = 186.123\n",
        "\n",
        "print(\"나의 키는 \", height, \"입니다.\", sep=\"\")\n",
        "print(\"나의 키는 {0:.2f}\".format(height), \"입니다.\", sep=\"\")"
      ],
      "metadata": {
        "id": "vGeiZW5G4l9w",
        "colab": {
          "base_uri": "https://localhost:8080/"
        },
        "outputId": "1e49329a-d4f8-41a6-db2f-957bb8bc7118"
      },
      "execution_count": null,
      "outputs": [
        {
          "output_type": "stream",
          "name": "stdout",
          "text": [
            "나의 키는 186.123입니다.\n",
            "나의 키는 186.12입니다.\n"
          ]
        }
      ]
    },
    {
      "cell_type": "code",
      "source": [
        "print(\"안녕하세요\\n 선재입니다.\") #다음줄\n",
        "print(\"안녕하세요\\t 선재입니다.\") #탭사용\n",
        "print(\"안녕하세요\\b 선재입니다.\") #한글자 없애\n"
      ],
      "metadata": {
        "colab": {
          "base_uri": "https://localhost:8080/"
        },
        "id": "d1Te1s1Z5avb",
        "outputId": "29012bc0-8348-4218-d8d3-4cb189bbd5b9"
      },
      "execution_count": null,
      "outputs": [
        {
          "output_type": "stream",
          "name": "stdout",
          "text": [
            "안녕하세요\n",
            " 선재입니다.\n",
            "안녕하세요\t 선재입니다.\n",
            "안녕하세요\b 선재입니다.\n",
            "안녕하세요\n",
            " 선재입니다.\n"
          ]
        }
      ]
    },
    {
      "cell_type": "code",
      "source": [
        "x = 20\n",
        "y = 20\n",
        "width = x*y\n",
        "print(\"직사각형의 넓이=\", width, sep=\"\")"
      ],
      "metadata": {
        "colab": {
          "base_uri": "https://localhost:8080/"
        },
        "id": "za-IzrqY7gqB",
        "outputId": "1c93c675-d6a2-45df-dd62-d1b4ff898f0a"
      },
      "execution_count": null,
      "outputs": [
        {
          "output_type": "stream",
          "name": "stdout",
          "text": [
            "직사각형의 넓이=400\n"
          ]
        }
      ]
    },
    {
      "cell_type": "code",
      "source": [
        "Kor = 100\n",
        "Eng = 80\n",
        "Math = 75\n",
        "sum = Kor + Eng + Math\n",
        "avg = sum/3\n",
        "\n",
        "print(\"국어 :\", Kor)\n",
        "print(\"영어 :\", Eng)\n",
        "print(\"수학 :\", Math)\n",
        "print(\"총점 :\", sum)\n",
        "print(f\"평균 : {avg:,.2f}\")\n"
      ],
      "metadata": {
        "colab": {
          "base_uri": "https://localhost:8080/"
        },
        "id": "mRhgUXBC8vX6",
        "outputId": "f62e68c7-f38f-468f-a1bb-3eba1e81d21f"
      },
      "execution_count": 3,
      "outputs": [
        {
          "output_type": "stream",
          "name": "stdout",
          "text": [
            "국어 : 100\n",
            "영어 : 80\n",
            "수학 : 75\n",
            "총점 : 255\n",
            "평균 : 85.00\n"
          ]
        }
      ]
    },
    {
      "cell_type": "code",
      "source": [],
      "metadata": {
        "id": "UdGCadtvyOmt"
      },
      "execution_count": null,
      "outputs": []
    }
  ]
}